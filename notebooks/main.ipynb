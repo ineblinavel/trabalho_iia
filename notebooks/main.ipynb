{
 "cells": [
  {
   "cell_type": "code",
   "execution_count": 7,
   "metadata": {},
   "outputs": [
    {
     "name": "stdout",
     "output_type": "stream",
     "text": [
      "Note: you may need to restart the kernel to use updated packages.\n"
     ]
    }
   ],
   "source": [
    "%pip install --quiet \\ pandas "
   ]
  },
  {
   "cell_type": "code",
   "execution_count": 1,
   "metadata": {},
   "outputs": [],
   "source": [
    "import pandas as pd"
   ]
  },
  {
   "cell_type": "code",
   "execution_count": null,
   "metadata": {},
   "outputs": [],
   "source": [
    "dados = [\n",
    "    (\"associação de Agricultores Familiares da Eco Comunidade do Assentamento 15 de Agosto (Afeca)\", [\"São Sebastião\"], -15.91117477568832, -47.72142914924957),\n",
    "    (\"Cooperativa Agrícola Buriti Vermelho (Cooper-Horti) - Paranoá\", [\"Paranoá\"], -15.7485, -47.6465),\n",
    "    (\"Cooperativa dos Produtores Rurais de Planaltina de Goiás e Região (Prorural)\", [\"Paranoá\", \"Plano Piloto\"], -15.445611703837635, -47.6190618576721),\n",
    "    (\"Cooperativa Agropecuária da Região de Brazlândia (Coopebraz)\", [\"Brazlândia\", \"Taguatinga\", \"Samambaia\", \"Recanto das Emas\"], -15.60313666754234, -48.11359575477609),\n",
    "    (\"Cooperativa de Agricultura Familiar Mista do Distrito Federal (Cooper-mista)\", [\"Planaltina\"], -15.764378385278865, -47.4937971768077),\n",
    "    (\"Cooperativa Agrícola da Região de Planaltina (Cootaquara) \",[\"Ceilândia\"],-15.633189282812694, -47.5225251020717),\n",
    "]\n",
    "\n",
    "\n"
   ]
  }
 ],
 "metadata": {
  "kernelspec": {
   "display_name": ".venv (3.11.2)",
   "language": "python",
   "name": "python3"
  },
  "language_info": {
   "codemirror_mode": {
    "name": "ipython",
    "version": 3
   },
   "file_extension": ".py",
   "mimetype": "text/x-python",
   "name": "python",
   "nbconvert_exporter": "python",
   "pygments_lexer": "ipython3",
   "version": "3.11.2"
  }
 },
 "nbformat": 4,
 "nbformat_minor": 2
}
