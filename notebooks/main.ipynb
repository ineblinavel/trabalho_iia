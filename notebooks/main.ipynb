{
 "cells": [
  {
   "cell_type": "code",
   "execution_count": null,
   "metadata": {},
   "outputs": [
    {
     "name": "stdout",
     "output_type": "stream",
     "text": [
      "Collecting polars\n",
      "  Using cached polars-1.29.0-cp39-abi3-win_amd64.whl.metadata (15 kB)\n",
      "Using cached polars-1.29.0-cp39-abi3-win_amd64.whl (35.0 MB)\n",
      "Installing collected packages: polars\n",
      "Successfully installed polars-1.29.0\n",
      "Note: you may need to restart the kernel to use updated packages.\n"
     ]
    }
   ],
   "source": [
    "%pip install polars\n",
    "%pip install pyarrow\n",
    "%pip install duckdb\n",
    "%pip install panadas"
   ]
  },
  {
   "cell_type": "code",
   "execution_count": 17,
   "metadata": {},
   "outputs": [],
   "source": [
    "import pandas as pd\n",
    "import polars as pl # type: ignore\n",
    "import duckdb"
   ]
  },
  {
   "cell_type": "code",
   "execution_count": null,
   "metadata": {},
   "outputs": [],
   "source": [
    "duckdb.sql(\"\"\"\n",
    "COPY (\n",
    "    SELECT \n",
    "        product_name, \n",
    "        generic_name, \n",
    "        categories, \n",
    "        categories_tags, \n",
    "        countries_tags, \n",
    "        labels_tags, \n",
    "        ingredients_tags, \n",
    "        nutriscore_grade, \n",
    "        nova_group, \n",
    "        ecoscore_grade, \n",
    "        scans_n \n",
    "    FROM '../data/food.parquet'\n",
    "    WHERE array_contains(countries_tags, 'en:united-states')\n",
    ") TO '../data/food_us.csv' (HEADER, FORMAT 'csv')\n",
    "\"\"\")\n",
    "\n",
    "#Check the size of the parquet and csv files\n",
    "parquet_size = duckdb.sql(\"SELECT COUNT(*) FROM '../data/food.parquet'\").to_df().iloc[0, 0]\n",
    "csv_size = duckdb.sql(\"SELECT COUNT(*) FROM '../data/food_us.csv'\").to_df().iloc[0, 0]\n",
    "print(f\"Parquet size: {parquet_size}\")\n",
    "print(f\"CSV size: {csv_size}\")"
   ]
  },
  {
   "cell_type": "code",
   "execution_count": null,
   "metadata": {},
   "outputs": [],
   "source": []
  }
 ],
 "metadata": {
  "kernelspec": {
   "display_name": "Python 3",
   "language": "python",
   "name": "python3"
  },
  "language_info": {
   "codemirror_mode": {
    "name": "ipython",
    "version": 3
   },
   "file_extension": ".py",
   "mimetype": "text/x-python",
   "name": "python",
   "nbconvert_exporter": "python",
   "pygments_lexer": "ipython3",
   "version": "3.11.11"
  }
 },
 "nbformat": 4,
 "nbformat_minor": 2
}
