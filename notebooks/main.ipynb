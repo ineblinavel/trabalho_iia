{
 "cells": [
  {
   "cell_type": "code",
   "execution_count": 2,
   "metadata": {},
   "outputs": [
    {
     "name": "stdout",
     "output_type": "stream",
     "text": [
      "Note: you may need to restart the kernel to use updated packages.\n"
     ]
    },
    {
     "name": "stderr",
     "output_type": "stream",
     "text": [
      "\n",
      "[notice] A new release of pip is available: 24.3.1 -> 25.1.1\n",
      "[notice] To update, run: python.exe -m pip install --upgrade pip\n",
      "ERROR: Directory '\\\\' is not installable. Neither 'setup.py' nor 'pyproject.toml' found.\n"
     ]
    }
   ],
   "source": [
    "%pip install --quiet \\ pandas "
   ]
  },
  {
   "cell_type": "code",
   "execution_count": null,
   "metadata": {},
   "outputs": [
    {
     "name": "stderr",
     "output_type": "stream",
     "text": [
      "C:\\Users\\Gustavo Borges\\AppData\\Local\\Temp\\ipykernel_5800\\394122892.py:11: FutureWarning: Downcasting behavior in `replace` is deprecated and will be removed in a future version. To retain the old behavior, explicitly call `result.infer_objects(copy=False)`. To opt-in to the future behavior, set `pd.set_option('future.no_silent_downcasting', True)`\n",
      "  produtos_df = produtos_df.replace({'V': True, 'F': False})\n"
     ]
    },
    {
     "ename": "EmptyDataError",
     "evalue": "No columns to parse from file",
     "output_type": "error",
     "traceback": [
      "\u001b[1;31m---------------------------------------------------------------------------\u001b[0m",
      "\u001b[1;31mEmptyDataError\u001b[0m                            Traceback (most recent call last)",
      "Cell \u001b[1;32mIn[25], line 15\u001b[0m\n\u001b[0;32m     12\u001b[0m produtos_df[\u001b[38;5;124m'\u001b[39m\u001b[38;5;124mCidade\u001b[39m\u001b[38;5;124m'\u001b[39m] \u001b[38;5;241m=\u001b[39m produtos_df[\u001b[38;5;124m'\u001b[39m\u001b[38;5;124mCidade\u001b[39m\u001b[38;5;124m'\u001b[39m]\u001b[38;5;241m.\u001b[39mstr\u001b[38;5;241m.\u001b[39mstrip()\u001b[38;5;241m.\u001b[39mstr\u001b[38;5;241m.\u001b[39mlower()\n\u001b[0;32m     14\u001b[0m \u001b[38;5;66;03m# Carregar dados das cooperativas\u001b[39;00m\n\u001b[1;32m---> 15\u001b[0m cooperativas_df \u001b[38;5;241m=\u001b[39m \u001b[43mpd\u001b[49m\u001b[38;5;241;43m.\u001b[39;49m\u001b[43mread_csv\u001b[49m\u001b[43m(\u001b[49m\u001b[38;5;124;43m'\u001b[39;49m\u001b[38;5;124;43m../data/cooperativas.csv\u001b[39;49m\u001b[38;5;124;43m'\u001b[39;49m\u001b[43m)\u001b[49m\n\u001b[0;32m     16\u001b[0m cooperativas_df[\u001b[38;5;124m'\u001b[39m\u001b[38;5;124mRegião\u001b[39m\u001b[38;5;124m'\u001b[39m] \u001b[38;5;241m=\u001b[39m cooperativas_df[\u001b[38;5;124m'\u001b[39m\u001b[38;5;124mRegião\u001b[39m\u001b[38;5;124m'\u001b[39m]\u001b[38;5;241m.\u001b[39mstr\u001b[38;5;241m.\u001b[39mlower()\u001b[38;5;241m.\u001b[39mstr\u001b[38;5;241m.\u001b[39mstrip()\n",
      "File \u001b[1;32mc:\\Users\\Gustavo Borges\\AppData\\Local\\Programs\\Python\\Python312\\Lib\\site-packages\\pandas\\io\\parsers\\readers.py:1026\u001b[0m, in \u001b[0;36mread_csv\u001b[1;34m(filepath_or_buffer, sep, delimiter, header, names, index_col, usecols, dtype, engine, converters, true_values, false_values, skipinitialspace, skiprows, skipfooter, nrows, na_values, keep_default_na, na_filter, verbose, skip_blank_lines, parse_dates, infer_datetime_format, keep_date_col, date_parser, date_format, dayfirst, cache_dates, iterator, chunksize, compression, thousands, decimal, lineterminator, quotechar, quoting, doublequote, escapechar, comment, encoding, encoding_errors, dialect, on_bad_lines, delim_whitespace, low_memory, memory_map, float_precision, storage_options, dtype_backend)\u001b[0m\n\u001b[0;32m   1013\u001b[0m kwds_defaults \u001b[38;5;241m=\u001b[39m _refine_defaults_read(\n\u001b[0;32m   1014\u001b[0m     dialect,\n\u001b[0;32m   1015\u001b[0m     delimiter,\n\u001b[1;32m   (...)\u001b[0m\n\u001b[0;32m   1022\u001b[0m     dtype_backend\u001b[38;5;241m=\u001b[39mdtype_backend,\n\u001b[0;32m   1023\u001b[0m )\n\u001b[0;32m   1024\u001b[0m kwds\u001b[38;5;241m.\u001b[39mupdate(kwds_defaults)\n\u001b[1;32m-> 1026\u001b[0m \u001b[38;5;28;01mreturn\u001b[39;00m \u001b[43m_read\u001b[49m\u001b[43m(\u001b[49m\u001b[43mfilepath_or_buffer\u001b[49m\u001b[43m,\u001b[49m\u001b[43m \u001b[49m\u001b[43mkwds\u001b[49m\u001b[43m)\u001b[49m\n",
      "File \u001b[1;32mc:\\Users\\Gustavo Borges\\AppData\\Local\\Programs\\Python\\Python312\\Lib\\site-packages\\pandas\\io\\parsers\\readers.py:620\u001b[0m, in \u001b[0;36m_read\u001b[1;34m(filepath_or_buffer, kwds)\u001b[0m\n\u001b[0;32m    617\u001b[0m _validate_names(kwds\u001b[38;5;241m.\u001b[39mget(\u001b[38;5;124m\"\u001b[39m\u001b[38;5;124mnames\u001b[39m\u001b[38;5;124m\"\u001b[39m, \u001b[38;5;28;01mNone\u001b[39;00m))\n\u001b[0;32m    619\u001b[0m \u001b[38;5;66;03m# Create the parser.\u001b[39;00m\n\u001b[1;32m--> 620\u001b[0m parser \u001b[38;5;241m=\u001b[39m \u001b[43mTextFileReader\u001b[49m\u001b[43m(\u001b[49m\u001b[43mfilepath_or_buffer\u001b[49m\u001b[43m,\u001b[49m\u001b[43m \u001b[49m\u001b[38;5;241;43m*\u001b[39;49m\u001b[38;5;241;43m*\u001b[39;49m\u001b[43mkwds\u001b[49m\u001b[43m)\u001b[49m\n\u001b[0;32m    622\u001b[0m \u001b[38;5;28;01mif\u001b[39;00m chunksize \u001b[38;5;129;01mor\u001b[39;00m iterator:\n\u001b[0;32m    623\u001b[0m     \u001b[38;5;28;01mreturn\u001b[39;00m parser\n",
      "File \u001b[1;32mc:\\Users\\Gustavo Borges\\AppData\\Local\\Programs\\Python\\Python312\\Lib\\site-packages\\pandas\\io\\parsers\\readers.py:1620\u001b[0m, in \u001b[0;36mTextFileReader.__init__\u001b[1;34m(self, f, engine, **kwds)\u001b[0m\n\u001b[0;32m   1617\u001b[0m     \u001b[38;5;28mself\u001b[39m\u001b[38;5;241m.\u001b[39moptions[\u001b[38;5;124m\"\u001b[39m\u001b[38;5;124mhas_index_names\u001b[39m\u001b[38;5;124m\"\u001b[39m] \u001b[38;5;241m=\u001b[39m kwds[\u001b[38;5;124m\"\u001b[39m\u001b[38;5;124mhas_index_names\u001b[39m\u001b[38;5;124m\"\u001b[39m]\n\u001b[0;32m   1619\u001b[0m \u001b[38;5;28mself\u001b[39m\u001b[38;5;241m.\u001b[39mhandles: IOHandles \u001b[38;5;241m|\u001b[39m \u001b[38;5;28;01mNone\u001b[39;00m \u001b[38;5;241m=\u001b[39m \u001b[38;5;28;01mNone\u001b[39;00m\n\u001b[1;32m-> 1620\u001b[0m \u001b[38;5;28mself\u001b[39m\u001b[38;5;241m.\u001b[39m_engine \u001b[38;5;241m=\u001b[39m \u001b[38;5;28;43mself\u001b[39;49m\u001b[38;5;241;43m.\u001b[39;49m\u001b[43m_make_engine\u001b[49m\u001b[43m(\u001b[49m\u001b[43mf\u001b[49m\u001b[43m,\u001b[49m\u001b[43m \u001b[49m\u001b[38;5;28;43mself\u001b[39;49m\u001b[38;5;241;43m.\u001b[39;49m\u001b[43mengine\u001b[49m\u001b[43m)\u001b[49m\n",
      "File \u001b[1;32mc:\\Users\\Gustavo Borges\\AppData\\Local\\Programs\\Python\\Python312\\Lib\\site-packages\\pandas\\io\\parsers\\readers.py:1898\u001b[0m, in \u001b[0;36mTextFileReader._make_engine\u001b[1;34m(self, f, engine)\u001b[0m\n\u001b[0;32m   1895\u001b[0m     \u001b[38;5;28;01mraise\u001b[39;00m \u001b[38;5;167;01mValueError\u001b[39;00m(msg)\n\u001b[0;32m   1897\u001b[0m \u001b[38;5;28;01mtry\u001b[39;00m:\n\u001b[1;32m-> 1898\u001b[0m     \u001b[38;5;28;01mreturn\u001b[39;00m \u001b[43mmapping\u001b[49m\u001b[43m[\u001b[49m\u001b[43mengine\u001b[49m\u001b[43m]\u001b[49m\u001b[43m(\u001b[49m\u001b[43mf\u001b[49m\u001b[43m,\u001b[49m\u001b[43m \u001b[49m\u001b[38;5;241;43m*\u001b[39;49m\u001b[38;5;241;43m*\u001b[39;49m\u001b[38;5;28;43mself\u001b[39;49m\u001b[38;5;241;43m.\u001b[39;49m\u001b[43moptions\u001b[49m\u001b[43m)\u001b[49m\n\u001b[0;32m   1899\u001b[0m \u001b[38;5;28;01mexcept\u001b[39;00m \u001b[38;5;167;01mException\u001b[39;00m:\n\u001b[0;32m   1900\u001b[0m     \u001b[38;5;28;01mif\u001b[39;00m \u001b[38;5;28mself\u001b[39m\u001b[38;5;241m.\u001b[39mhandles \u001b[38;5;129;01mis\u001b[39;00m \u001b[38;5;129;01mnot\u001b[39;00m \u001b[38;5;28;01mNone\u001b[39;00m:\n",
      "File \u001b[1;32mc:\\Users\\Gustavo Borges\\AppData\\Local\\Programs\\Python\\Python312\\Lib\\site-packages\\pandas\\io\\parsers\\c_parser_wrapper.py:93\u001b[0m, in \u001b[0;36mCParserWrapper.__init__\u001b[1;34m(self, src, **kwds)\u001b[0m\n\u001b[0;32m     90\u001b[0m \u001b[38;5;28;01mif\u001b[39;00m kwds[\u001b[38;5;124m\"\u001b[39m\u001b[38;5;124mdtype_backend\u001b[39m\u001b[38;5;124m\"\u001b[39m] \u001b[38;5;241m==\u001b[39m \u001b[38;5;124m\"\u001b[39m\u001b[38;5;124mpyarrow\u001b[39m\u001b[38;5;124m\"\u001b[39m:\n\u001b[0;32m     91\u001b[0m     \u001b[38;5;66;03m# Fail here loudly instead of in cython after reading\u001b[39;00m\n\u001b[0;32m     92\u001b[0m     import_optional_dependency(\u001b[38;5;124m\"\u001b[39m\u001b[38;5;124mpyarrow\u001b[39m\u001b[38;5;124m\"\u001b[39m)\n\u001b[1;32m---> 93\u001b[0m \u001b[38;5;28mself\u001b[39m\u001b[38;5;241m.\u001b[39m_reader \u001b[38;5;241m=\u001b[39m \u001b[43mparsers\u001b[49m\u001b[38;5;241;43m.\u001b[39;49m\u001b[43mTextReader\u001b[49m\u001b[43m(\u001b[49m\u001b[43msrc\u001b[49m\u001b[43m,\u001b[49m\u001b[43m \u001b[49m\u001b[38;5;241;43m*\u001b[39;49m\u001b[38;5;241;43m*\u001b[39;49m\u001b[43mkwds\u001b[49m\u001b[43m)\u001b[49m\n\u001b[0;32m     95\u001b[0m \u001b[38;5;28mself\u001b[39m\u001b[38;5;241m.\u001b[39munnamed_cols \u001b[38;5;241m=\u001b[39m \u001b[38;5;28mself\u001b[39m\u001b[38;5;241m.\u001b[39m_reader\u001b[38;5;241m.\u001b[39munnamed_cols\n\u001b[0;32m     97\u001b[0m \u001b[38;5;66;03m# error: Cannot determine type of 'names'\u001b[39;00m\n",
      "File \u001b[1;32mparsers.pyx:581\u001b[0m, in \u001b[0;36mpandas._libs.parsers.TextReader.__cinit__\u001b[1;34m()\u001b[0m\n",
      "\u001b[1;31mEmptyDataError\u001b[0m: No columns to parse from file"
     ]
    }
   ],
   "source": [
    "#carregar dados\n",
    "\n",
    "import pandas as pd\n",
    "import pandas as pd\n",
    "from geopy.distance import geodesic\n",
    "import folium\n",
    "from IPython.display import display\n",
    "\n",
    "# Carregar dados binários de produtos\n",
    "produtos_df = pd.read_csv('../data/frutas_olericolas_binario.csv')\n",
    "produtos_df = produtos_df.replace({'V': True, 'F': False})\n",
    "produtos_df['Cidade'] = produtos_df['Cidade'].str.strip().str.lower()\n",
    "\n",
    "# Carregar dados das cooperativas\n",
    "cooperativas_df = pd.read_csv('../data/cooperativas.csv')\n",
    "cooperativas_df['Região'] = cooperativas_df['Região'].str.lower().str.strip()"
   ]
  },
  {
   "cell_type": "code",
   "execution_count": 7,
   "metadata": {},
   "outputs": [
    {
     "ename": "NameError",
     "evalue": "name 'csv' is not defined",
     "output_type": "error",
     "traceback": [
      "\u001b[1;31m---------------------------------------------------------------------------\u001b[0m",
      "\u001b[1;31mNameError\u001b[0m                                 Traceback (most recent call last)",
      "Cell \u001b[1;32mIn[7], line 42\u001b[0m\n\u001b[0;32m     40\u001b[0m csv_file \u001b[38;5;241m=\u001b[39m \u001b[38;5;124m'\u001b[39m\u001b[38;5;124m../data/cooperativas.csv\u001b[39m\u001b[38;5;124m'\u001b[39m\n\u001b[0;32m     41\u001b[0m \u001b[38;5;28;01mwith\u001b[39;00m \u001b[38;5;28mopen\u001b[39m(csv_file, mode\u001b[38;5;241m=\u001b[39m\u001b[38;5;124m'\u001b[39m\u001b[38;5;124mw\u001b[39m\u001b[38;5;124m'\u001b[39m, newline\u001b[38;5;241m=\u001b[39m\u001b[38;5;124m'\u001b[39m\u001b[38;5;124m'\u001b[39m, encoding\u001b[38;5;241m=\u001b[39m\u001b[38;5;124m'\u001b[39m\u001b[38;5;124mutf-8\u001b[39m\u001b[38;5;124m'\u001b[39m) \u001b[38;5;28;01mas\u001b[39;00m file:\n\u001b[1;32m---> 42\u001b[0m     writer \u001b[38;5;241m=\u001b[39m \u001b[43mcsv\u001b[49m\u001b[38;5;241m.\u001b[39mwriter(file)\n\u001b[0;32m     43\u001b[0m     writer\u001b[38;5;241m.\u001b[39mwriterow([\u001b[38;5;124m\"\u001b[39m\u001b[38;5;124mNome\u001b[39m\u001b[38;5;124m\"\u001b[39m, \u001b[38;5;124m\"\u001b[39m\u001b[38;5;124mRegião\u001b[39m\u001b[38;5;124m\"\u001b[39m, \u001b[38;5;124m\"\u001b[39m\u001b[38;5;124mLatitude\u001b[39m\u001b[38;5;124m\"\u001b[39m, \u001b[38;5;124m\"\u001b[39m\u001b[38;5;124mLongitude\u001b[39m\u001b[38;5;124m\"\u001b[39m])\n\u001b[0;32m     44\u001b[0m     \u001b[38;5;28;01mfor\u001b[39;00m nome, regioes, lat, lon \u001b[38;5;129;01min\u001b[39;00m dados:\n",
      "\u001b[1;31mNameError\u001b[0m: name 'csv' is not defined"
     ]
    }
   ],
   "source": [
    "dados = [\n",
    "    (\"associação de Agricultores Familiares da Eco Comunidade do Assentamento 15 de Agosto (Afeca)\", [\"são sebastião\"], -15.91117477568832, -47.72142914924957),\n",
    "\n",
    "    (\"Associação Agrícola do Distrito Federal e Ride (Agrifam)\", [\"taguatinga\", \"vargem bonita\"], -15.831, -48.056),\n",
    "\n",
    "    (\"Associação Mista dos Agricultores Familiares, Orgânicos e Produtores Rurais do DF e Entorno (Amista)\", [\"gama\"], -15.794, -47.930),\n",
    "\n",
    "    (\"Associação dos Produtores da Agricultura Familiar (Aspaf )\", [\"gama\"], -15.61, -48.2),\n",
    "\n",
    "    (\"Associação dos Produtores Rurais de Alexandre Gusmão (AsSpag)\", [\"brazlândia\", \"alexandre gusmão\"], -15.747628314703643, -48.11713041048713),\n",
    "\n",
    "    (\"Associação dos Produtores de Hortigranjeiros do Distrito Federal (Asphor)\", [\"gama\"], -15.791489057677724, -47.948277524935406),\n",
    "\n",
    "\n",
    "    (\"Associação dos Produtores do Núcleo Rural Lago Oeste (ASPROESTE)\", [\"sobradinho\"],-15.619109134078176, -47.94872798840174),\n",
    "    \n",
    "    (\"Associação dos Produtores Rurais Novo Horizonte Betinho (Aspronte)\", [\"ceilândia\"], -15.603462102101528, -48.11337371660706),\n",
    "\n",
    "    (\"Associação dos Trabalhadores Rurais da Agricultura Familiar do Assentamento Chapadinha (Astraf)\", [\"Sobradinho\"], -15.542745521391486, -48.02980085045159),\n",
    "\n",
    "\n",
    "    (\"Cooperativa Mista da Agricultura Familiar do Meio Ambiente e da Cultura do Brasil\", [\"gama\"], -15.94, -48.02),\n",
    "\n",
    "    (\"Cooperativa Agrícola Buriti Vermelho (Cooper-Horti)\",[\"paranoá\",\"pad-df\", \"jardim\"], -15.900840116171455, -47.41563678134716),\n",
    "\n",
    "    (\"Cooperativa dos Produtores Rurais de Planaltina de Goiás e Região (Prorural)\", [\"paranoá\", \"pad-df\", \"jardim\"], -15.445611703837635, -47.6190618576721),\n",
    "\n",
    "    (\"Cooperativa Agropecuária da Região de Brazlândia (Coopebraz)\", [\"brazlândia\", \"taguatinga\", \"alexandre gusmão\",\"vargem bonita\"], -15.60313666754234, -48.11359575477609),\n",
    "\n",
    "    (\"Cooperativa de Agricultura Familiar Mista do Distrito Federal (Coopermista)\", [\"planaltina\",\"pipiripau\", \"rio preto\", \"taquara\", \"tabatinga\",\"vargem bonita\"], -15.764378385278865, -47.4937971768077),\n",
    "\n",
    "    (\"Cooperativa dos Agricultores Familiares Ecológicos do Cerrado (RedeTerra)\", [\"gama\"], -15.794, -47.930),\n",
    "    (\"Cooperativa Agrícola da Região de Planaltina (Cootaquara) \",[\"ceilândia\"],-16.014, -48),\n",
    "\n",
    "    (\"Cooperativa de Serviços Ambientais, Agricultura Familiar, Sociedade,Cultura e Saúde (CooperBrasilia)\" , [\"sobradinho\", \"são sebastião\"], -15.65, -47.8),\n",
    "\n",
    "    (\"Cooperativa Agroambiental Palmas do Lago Oeste (CooperPalmas)\", [\"sobradinho\", \"planaltina\", \"pipiripau\", \"rio preto\", \"taquara\", \"tabatinga\", \"vargem bonita\"], -15.572147049026993, -48.0142951696709),\n",
    "\n",
    "]\n",
    "csv_file = '../data/cooperativas.csv'\n",
    "with open(csv_file, mode='w', newline='', encoding='utf-8') as file:\n",
    "    writer = csv.writer(file)\n",
    "    writer.writerow([\"Nome\", \"Região\", \"Latitude\", \"Longitude\"])\n",
    "    for nome, regioes, lat, lon in dados:\n",
    "        writer.writerow([nome, ', '.join(regioes), lat, lon])\n",
    "\n",
    "\n"
   ]
  },
  {
   "cell_type": "code",
   "execution_count": 39,
   "metadata": {},
   "outputs": [],
   "source": [
    "#Sistema de recomendação\n",
    "\n",
    "from geopy.distance import geodesic\n",
    "\n",
    "class RecomendadorAgricolaDF:\n",
    "    def __init__(self, produtos_df, cooperativas_df):\n",
    "        self.produtos = produtos_df\n",
    "        self.cooperativas = cooperativas_df.explode('Região')\n",
    "        \n",
    "    def recomendar(self, produtos_alvo, origem, raio_km=20):\n",
    "        \"\"\"\n",
    "        Args:\n",
    "            produtos_alvo: Lista de produtos (ex: ['Tomate', 'Alface'])\n",
    "            origem: Tupla (latitude, longitude)\n",
    "            raio_km: Raio de busca em quilômetros\n",
    "            \n",
    "        Returns:\n",
    "            DataFrame com cooperativas que produzem TODOS os produtos no raio especificado\n",
    "        \"\"\"\n",
    "        # 1. Encontrar cidades com todos os produtos desejados\n",
    "        cidades_validas = self.produtos[\n",
    "            self.produtos[produtos_alvo].all(axis=1)\n",
    "        ]['Cidade'].unique()\n",
    "        \n",
    "        # 2. Filtrar cooperativas nessas cidades\n",
    "        cooperativas_validas = self.cooperativas[\n",
    "            self.cooperativas['Região'].isin(cidades_validas)\n",
    "        ].copy()\n",
    "        \n",
    "        # 3. Calcular distâncias\n",
    "        cooperativas_validas['Distância (km)'] = cooperativas_validas.apply(\n",
    "            lambda x: int(round(geodesic(origem, (x['Latitude'], x['Longitude'])).km)),\n",
    "            axis=1\n",
    "        )\n",
    "        \n",
    "        # 4. Filtrar por raio e ordenar\n",
    "        return cooperativas_validas[\n",
    "            cooperativas_validas['Distância (km)'] <= raio_km\n",
    "        ].sort_values('Distância (km)')"
   ]
  },
  {
   "cell_type": "code",
   "execution_count": 32,
   "metadata": {},
   "outputs": [],
   "source": [
    "#gera mapa\n",
    "def visualizar_mapa(self, resultados, origem):\n",
    "        \"\"\"Gera mapa interativo com os resultados\"\"\"\n",
    "        mapa = folium.Map(location=origem, zoom_start=10)\n",
    "        \n",
    "        # Marcador da origem\n",
    "        folium.Marker(\n",
    "            location=origem,\n",
    "            popup='<b>Sua Localização</b>',\n",
    "            icon=folium.Icon(color='blue', icon='home')\n",
    "        ).add_to(mapa)\n",
    "        \n",
    "        # Marcadores das cooperativas\n",
    "        for _, row in resultados.iterrows():\n",
    "            folium.Marker(\n",
    "                location=[row['Latitude'], row['Longitude']],\n",
    "                popup=f\"\"\"\n",
    "                <b>{row['Nome']}</b><br>\n",
    "                Região: {row['Região']}<br>\n",
    "                Distância: {row['Distância (km)']}km<br>\n",
    "                Produtos: {row['Produtos']}\n",
    "                \"\"\",\n",
    "                icon=folium.Icon(color='green', icon='leaf')\n",
    "            ).add_to(mapa)\n",
    "        \n",
    "        # Linhas de conexão\n",
    "        for _, row in resultados.iterrows():\n",
    "            folium.PolyLine(\n",
    "                locations=[origem, [row['Latitude'], row['Longitude']]],\n",
    "                color='gray',\n",
    "                weight=1\n",
    "            ).add_to(mapa)\n",
    "        \n",
    "        return mapa"
   ]
  },
  {
   "cell_type": "code",
   "execution_count": 40,
   "metadata": {},
   "outputs": [
    {
     "name": "stdout",
     "output_type": "stream",
     "text": [
      "🍅🌱 Top Recomendações:\n"
     ]
    },
    {
     "data": {
      "text/html": [
       "<div>\n",
       "<style scoped>\n",
       "    .dataframe tbody tr th:only-of-type {\n",
       "        vertical-align: middle;\n",
       "    }\n",
       "\n",
       "    .dataframe tbody tr th {\n",
       "        vertical-align: top;\n",
       "    }\n",
       "\n",
       "    .dataframe thead th {\n",
       "        text-align: right;\n",
       "    }\n",
       "</style>\n",
       "<table border=\"1\" class=\"dataframe\">\n",
       "  <thead>\n",
       "    <tr style=\"text-align: right;\">\n",
       "      <th></th>\n",
       "      <th>Nome</th>\n",
       "      <th>Região</th>\n",
       "      <th>Latitude</th>\n",
       "      <th>Longitude</th>\n",
       "      <th>Distância (km)</th>\n",
       "    </tr>\n",
       "  </thead>\n",
       "  <tbody>\n",
       "    <tr>\n",
       "      <th>2</th>\n",
       "      <td>Associação Mista dos Agricultores Familiares, ...</td>\n",
       "      <td>gama</td>\n",
       "      <td>-15.794000</td>\n",
       "      <td>-47.930000</td>\n",
       "      <td>5</td>\n",
       "    </tr>\n",
       "    <tr>\n",
       "      <th>14</th>\n",
       "      <td>Cooperativa dos Agricultores Familiares Ecológ...</td>\n",
       "      <td>gama</td>\n",
       "      <td>-15.794000</td>\n",
       "      <td>-47.930000</td>\n",
       "      <td>5</td>\n",
       "    </tr>\n",
       "    <tr>\n",
       "      <th>5</th>\n",
       "      <td>Associação dos Produtores de Hortigranjeiros d...</td>\n",
       "      <td>gama</td>\n",
       "      <td>-15.791489</td>\n",
       "      <td>-47.948278</td>\n",
       "      <td>7</td>\n",
       "    </tr>\n",
       "    <tr>\n",
       "      <th>6</th>\n",
       "      <td>Associação dos Produtores do Núcleo Rural Lago...</td>\n",
       "      <td>sobradinho</td>\n",
       "      <td>-15.619109</td>\n",
       "      <td>-47.948728</td>\n",
       "      <td>21</td>\n",
       "    </tr>\n",
       "    <tr>\n",
       "      <th>0</th>\n",
       "      <td>associação de Agricultores Familiares da Eco C...</td>\n",
       "      <td>são sebastião</td>\n",
       "      <td>-15.911175</td>\n",
       "      <td>-47.721429</td>\n",
       "      <td>22</td>\n",
       "    </tr>\n",
       "    <tr>\n",
       "      <th>9</th>\n",
       "      <td>Cooperativa Mista da Agricultura Familiar do M...</td>\n",
       "      <td>gama</td>\n",
       "      <td>-15.940000</td>\n",
       "      <td>-48.020000</td>\n",
       "      <td>22</td>\n",
       "    </tr>\n",
       "    <tr>\n",
       "      <th>15</th>\n",
       "      <td>Cooperativa Agrícola da Região de Planaltina (...</td>\n",
       "      <td>ceilândia</td>\n",
       "      <td>-16.014000</td>\n",
       "      <td>-48.000000</td>\n",
       "      <td>27</td>\n",
       "    </tr>\n",
       "  </tbody>\n",
       "</table>\n",
       "</div>"
      ],
      "text/plain": [
       "                                                 Nome         Região  \\\n",
       "2   Associação Mista dos Agricultores Familiares, ...           gama   \n",
       "14  Cooperativa dos Agricultores Familiares Ecológ...           gama   \n",
       "5   Associação dos Produtores de Hortigranjeiros d...           gama   \n",
       "6   Associação dos Produtores do Núcleo Rural Lago...     sobradinho   \n",
       "0   associação de Agricultores Familiares da Eco C...  são sebastião   \n",
       "9   Cooperativa Mista da Agricultura Familiar do M...           gama   \n",
       "15  Cooperativa Agrícola da Região de Planaltina (...      ceilândia   \n",
       "\n",
       "     Latitude  Longitude  Distância (km)  \n",
       "2  -15.794000 -47.930000               5  \n",
       "14 -15.794000 -47.930000               5  \n",
       "5  -15.791489 -47.948278               7  \n",
       "6  -15.619109 -47.948728              21  \n",
       "0  -15.911175 -47.721429              22  \n",
       "9  -15.940000 -48.020000              22  \n",
       "15 -16.014000 -48.000000              27  "
      ]
     },
     "metadata": {},
     "output_type": "display_data"
    },
    {
     "name": "stdout",
     "output_type": "stream",
     "text": [
      "\n",
      "🗺️ Mapa Interativo:\n"
     ]
    },
    {
     "ename": "AttributeError",
     "evalue": "'RecomendadorAgricolaDF' object has no attribute 'visualizar_mapa'",
     "output_type": "error",
     "traceback": [
      "\u001b[1;31m---------------------------------------------------------------------------\u001b[0m",
      "\u001b[1;31mAttributeError\u001b[0m                            Traceback (most recent call last)",
      "Cell \u001b[1;32mIn[40], line 17\u001b[0m\n\u001b[0;32m     14\u001b[0m display(resultados)\n\u001b[0;32m     16\u001b[0m \u001b[38;5;28mprint\u001b[39m(\u001b[38;5;124m\"\u001b[39m\u001b[38;5;130;01m\\n\u001b[39;00m\u001b[38;5;124m🗺️ Mapa Interativo:\u001b[39m\u001b[38;5;124m\"\u001b[39m)\n\u001b[1;32m---> 17\u001b[0m mapa \u001b[38;5;241m=\u001b[39m \u001b[43msistema\u001b[49m\u001b[38;5;241;43m.\u001b[39;49m\u001b[43mvisualizar_mapa\u001b[49m(resultados, (\u001b[38;5;241m-\u001b[39m\u001b[38;5;241m15.794\u001b[39m, \u001b[38;5;241m-\u001b[39m\u001b[38;5;241m47.882\u001b[39m))\n\u001b[0;32m     18\u001b[0m display(mapa)\n",
      "\u001b[1;31mAttributeError\u001b[0m: 'RecomendadorAgricolaDF' object has no attribute 'visualizar_mapa'"
     ]
    }
   ],
   "source": [
    "#teste de saída\n",
    "# Exemplo de Uso\n",
    "if __name__ == \"__main__\":\n",
    "    sistema = RecomendadorAgricolaDF(produtos_df, cooperativas_df)\n",
    "    \n",
    "    # Exemplo: Buscar produtores de tomate e alface próximo ao Plano Piloto\n",
    "    resultados = sistema.recomendar(\n",
    "        produtos_alvo=['Tangerina'],\n",
    "        origem=(-15.794, -47.882),  # Coordenadas do Plano Piloto\n",
    "        raio_km=30\n",
    "    )\n",
    "    \n",
    "    print(\"🍅🌱 Top Recomendações:\")\n",
    "    display(resultados)\n",
    "    \n",
    "    print(\"\\n🗺️ Mapa Interativo:\")\n",
    "    mapa = sistema.visualizar_mapa(resultados, (-15.794, -47.882))\n",
    "    display(mapa)"
   ]
  }
 ],
 "metadata": {
  "kernelspec": {
   "display_name": "Python 3",
   "language": "python",
   "name": "python3"
  },
  "language_info": {
   "codemirror_mode": {
    "name": "ipython",
    "version": 3
   },
   "file_extension": ".py",
   "mimetype": "text/x-python",
   "name": "python",
   "nbconvert_exporter": "python",
   "pygments_lexer": "ipython3",
   "version": "3.12.0"
  }
 },
 "nbformat": 4,
 "nbformat_minor": 2
}
