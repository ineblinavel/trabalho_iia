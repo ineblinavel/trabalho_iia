{
 "cells": [
  {
   "cell_type": "code",
   "execution_count": 7,
   "metadata": {},
   "outputs": [
    {
     "name": "stdout",
     "output_type": "stream",
     "text": [
      "Note: you may need to restart the kernel to use updated packages.\n"
     ]
    }
   ],
   "source": [
    "%pip install --quiet \\ pandas "
   ]
  },
  {
   "cell_type": "code",
   "execution_count": 2,
   "metadata": {},
   "outputs": [],
   "source": [
    "import pandas as pd\n",
    "import csv"
   ]
  },
  {
   "cell_type": "code",
   "execution_count": null,
   "metadata": {},
   "outputs": [],
   "source": [
    "dados = [\n",
    "    (\"associação de Agricultores Familiares da Eco Comunidade do Assentamento 15 de Agosto (Afeca)\", [\"são sebastião\"], -15.91117477568832, -47.72142914924957),\n",
    "\n",
    "    (\"Associação Agrícola do Distrito Federal e Ride (Agrifam)\", [\"taguatinga\", \"vargem bonita\"], -15.831, -48.056),\n",
    "\n",
    "    (\"Associação Mista dos Agricultores Familiares, Orgânicos e Produtores Rurais do DF e Entorno (Amista)\", [\"gama\"], -15.794, -47.930),\n",
    "\n",
    "    (\"Associação dos Produtores da Agricultura Familiar (Aspaf )\", [\"gama\"], -15.61, -48.2),\n",
    "\n",
    "    (\"Associação dos Produtores Rurais de Alexandre Gusmão (AsSpag)\", [\"brazlândia\", \"alexandre gusmão\"], -15.747628314703643, -48.11713041048713),\n",
    "\n",
    "    (\"Associação dos Produtores de Hortigranjeiros do Distrito Federal (Asphor)\", [\"gama\"], -15.791489057677724, -47.948277524935406),\n",
    "\n",
    "\n",
    "    (\"Associação dos Produtores do Núcleo Rural Lago Oeste (ASPROESTE)\", [\"sobradinho\"],-15.619109134078176, -47.94872798840174),\n",
    "    \n",
    "    (\"Associação dos Produtores Rurais Novo Horizonte Betinho (Aspronte)\", [\"ceilândia\"], -15.603462102101528, -48.11337371660706),\n",
    "\n",
    "    (\"Associação dos Trabalhadores Rurais da Agricultura Familiar do Assentamento Chapadinha (Astraf)\", [\"Sobradinho\"], -15.542745521391486, -48.02980085045159),\n",
    "\n",
    "\n",
    "    (\"Cooperativa Mista da Agricultura Familiar do Meio Ambiente e da Cultura do Brasil\", [\"gama\"], -15.94, -48.02),\n",
    "\n",
    "    (\"Cooperativa Agrícola Buriti Vermelho (Cooper-Horti)\",[\"paranoá\",\"pad-df\", \"jardim\"], -15.900840116171455, -47.41563678134716),\n",
    "\n",
    "    (\"Cooperativa dos Produtores Rurais de Planaltina de Goiás e Região (Prorural)\", [\"paranoá\", \"pad-df\", \"jardim\"], -15.445611703837635, -47.6190618576721),\n",
    "\n",
    "    (\"Cooperativa Agropecuária da Região de Brazlândia (Coopebraz)\", [\"brazlândia\", \"taguatinga\", \"alexandre gusmão\",\"vargem bonita\"], -15.60313666754234, -48.11359575477609),\n",
    "\n",
    "    (\"Cooperativa de Agricultura Familiar Mista do Distrito Federal (Coopermista)\", [\"planaltina\",\"pipiripau\", \"rio preto\", \"taquara\", \"tabatinga\",\"vargem bonita\"], -15.764378385278865, -47.4937971768077),\n",
    "\n",
    "    (\"Cooperativa dos Agricultores Familiares Ecológicos do Cerrado (RedeTerra)\", [\"gama\"], -15.794, -47.930),\n",
    "    (\"Cooperativa Agrícola da Região de Planaltina (Cootaquara) \",[\"ceilândia\"],-16.014, -48),\n",
    "\n",
    "    (\"Cooperativa de Serviços Ambientais, Agricultura Familiar, Sociedade,Cultura e Saúde (CooperBrasilia)\" , [\"sobradinho\", \"são sebastião\"], -15.65, -47.8),\n",
    "\n",
    "    (\"Cooperativa Agroambiental Palmas do Lago Oeste (CooperPalmas)\", [\"sobradinho\", \"planaltina\", \"pipiripau\", \"rio preto\", \"taquara\", \"tabatinga\", \"vargem bonita\"], -15.572147049026993, -48.0142951696709),\n",
    "\n",
    "]\n",
    "csv_file = '../data/cooperativas.csv'\n",
    "with open(csv_file, mode='w', newline='', encoding='utf-8') as file:\n",
    "    writer = csv.writer(file)\n",
    "    writer.writerow([\"Nome\", \"Região\", \"Latitude\", \"Longitude\"])\n",
    "    for nome, regioes, lat, lon in dados:\n",
    "        writer.writerow([nome, ', '.join(regioes), lat, lon])\n",
    "\n",
    "\n"
   ]
  }
 ],
 "metadata": {
  "kernelspec": {
   "display_name": ".venv (3.11.2)",
   "language": "python",
   "name": "python3"
  },
  "language_info": {
   "codemirror_mode": {
    "name": "ipython",
    "version": 3
   },
   "file_extension": ".py",
   "mimetype": "text/x-python",
   "name": "python",
   "nbconvert_exporter": "python",
   "pygments_lexer": "ipython3",
   "version": "3.11.2"
  }
 },
 "nbformat": 4,
 "nbformat_minor": 2
}
